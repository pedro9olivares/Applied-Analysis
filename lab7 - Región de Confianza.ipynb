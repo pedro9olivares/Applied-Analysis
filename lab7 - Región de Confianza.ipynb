{
 "cells": [
  {
   "cell_type": "markdown",
   "metadata": {},
   "source": [
    "## Landing on the unit circle"
   ]
  },
  {
   "cell_type": "code",
   "execution_count": 1,
   "metadata": {},
   "outputs": [],
   "source": [
    "import numpy as np"
   ]
  },
  {
   "cell_type": "code",
   "execution_count": 2,
   "metadata": {},
   "outputs": [
    {
     "name": "stdout",
     "output_type": "stream",
     "text": [
      "t1=  -0.3226321686483411\n",
      "t2=  0.05848122525211467\n",
      "------------------------------------------------\n",
      "Punto 1:   [-0.30658042 -0.95184476]\n",
      "Punto 2:   [0.64620306 0.76316551]\n",
      "------------------------------------------------\n"
     ]
    }
   ],
   "source": [
    "p_cauchy = np.array([0.5, 0.5])\n",
    "p_newton = np.array([3.0, 5.0])\n",
    "Delta = 1.0\n",
    "\n",
    "p_aux = p_newton - p_cauchy\n",
    "A_coef=  np.dot(p_aux, p_aux)\n",
    "B_coef = 2*np.dot(p_aux, p_cauchy)\n",
    "C_coef = np.dot(p_cauchy, p_cauchy)-Delta\n",
    "\n",
    "Disc = B_coef**(2)-4*A_coef*C_coef\n",
    "Disc = np.sqrt(Disc)\n",
    "t_1 = (-B_coef-Disc)/(2*A_coef)\n",
    "t_2 = (-B_coef+Disc)/(2*A_coef)\n",
    "\n",
    "\n",
    "p_1=p_cauchy+ t_1*p_aux\n",
    "p_2=p_cauchy+ t_2*p_aux\n",
    "\n",
    "print(\"t1= \", t_1)\n",
    "print(\"t2= \", t_2)\n",
    "\n",
    "print(\"------------------------------------------------\")\n",
    "print(\"Punto 1:  \", p_1)\n",
    "print(\"Punto 2:  \", p_2)\n",
    "print(\"------------------------------------------------\")"
   ]
  },
  {
   "cell_type": "code",
   "execution_count": 3,
   "metadata": {},
   "outputs": [],
   "source": [
    "def get_positive_root(p_cauchy, p_newton, delta):\n",
    "    p_aux = p_newton - p_cauchy\n",
    "    A_coef=  np.dot(p_aux, p_aux)\n",
    "    B_coef = 2*np.dot(p_aux, p_cauchy)\n",
    "    C_coef = np.dot(p_cauchy, p_cauchy)-Delta\n",
    "\n",
    "    Disc = B_coef**(2)-4*A_coef*C_coef\n",
    "    Disc = np.sqrt(Disc)\n",
    "    t_1 = (-B_coef-Disc)/(2*A_coef)\n",
    "    t_2 = (-B_coef+Disc)/(2*A_coef)\n",
    "\n",
    "    if t_1 > 0:\n",
    "        return t_1\n",
    "    elif t_2 > 0:\n",
    "        return t_2\n",
    "    else:\n",
    "        raise('Upsis')"
   ]
  },
  {
   "cell_type": "markdown",
   "metadata": {},
   "source": [
    "## Testing out Región de Confianza"
   ]
  },
  {
   "cell_type": "code",
   "execution_count": 4,
   "metadata": {},
   "outputs": [],
   "source": [
    "from descentMethods import doblez_rc\n",
    "from derivatives import gradient, hessian\n",
    "from functions import rosenbrock"
   ]
  },
  {
   "cell_type": "code",
   "execution_count": 7,
   "metadata": {},
   "outputs": [
    {
     "name": "stdout",
     "output_type": "stream",
     "text": [
      "Dirección de Newton\tSolución del doblez: [-0.02335813  0.66824301]\n"
     ]
    }
   ],
   "source": [
    "x = np.array([1.5, 1.5])\n",
    "Delta = 0.8\n",
    "g = gradient(rosenbrock, x)\n",
    "B = hessian(rosenbrock, x)\n",
    "\n",
    "ps = doblez_rc(B, g, Delta)\n",
    "\n",
    "print(f'Solución del doblez: {ps}')"
   ]
  },
  {
   "cell_type": "code",
   "execution_count": 6,
   "metadata": {},
   "outputs": [
    {
     "name": "stdout",
     "output_type": "stream",
     "text": [
      "Dirección de Newton\t1     -0.02335813373811695     0.6682430099913677\n",
      "Punto de Cauchy\t0.5     -0.1393127724642742     0.4801999077762483\n",
      "Punto de Cauchy\t0.1     -0.02786255449285484     0.09603998155524966\n",
      "Punto de Cauchy\t0.05     -0.01393127724642742     0.04801999077762483\n",
      "Punto de Cauchy\t0.01     -0.002786255449285484     0.009603998155524967\n",
      "Punto de Cauchy\t0.005     -0.001393127724642742     0.0048019990777624835\n",
      "Punto de Cauchy\t0.001     -0.0002786255449285484     0.0009603998155524968\n",
      "Punto de Cauchy\t0.0005     -0.0001393127724642742     0.0004801999077762484\n",
      "Punto de Cauchy\t0.0001     -2.786255449285484e-05     9.603998155524967e-05\n"
     ]
    }
   ],
   "source": [
    "Deltas = [1, .5, .1, .05, .01, .005, .001, .0005, .0001]\n",
    "x = np.array([1.5, 1.5])\n",
    "\n",
    "for Delta in Deltas:\n",
    "    g = gradient(rosenbrock, x)\n",
    "    B = hessian(rosenbrock, x)\n",
    "\n",
    "    ps = doblez_rc(B, g, Delta)\n",
    "\n",
    "    print(f'{Delta}     {ps[0]}     {ps[1]}')\n"
   ]
  }
 ],
 "metadata": {
  "kernelspec": {
   "display_name": "Python 3",
   "language": "python",
   "name": "python3"
  },
  "language_info": {
   "codemirror_mode": {
    "name": "ipython",
    "version": 3
   },
   "file_extension": ".py",
   "mimetype": "text/x-python",
   "name": "python",
   "nbconvert_exporter": "python",
   "pygments_lexer": "ipython3",
   "version": "3.9.6"
  }
 },
 "nbformat": 4,
 "nbformat_minor": 2
}
