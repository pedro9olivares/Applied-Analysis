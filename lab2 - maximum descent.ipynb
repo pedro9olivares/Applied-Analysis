{
 "cells": [
  {
   "cell_type": "markdown",
   "metadata": {},
   "source": [
    "# Maximum descent"
   ]
  },
  {
   "cell_type": "code",
   "execution_count": 1,
   "metadata": {},
   "outputs": [],
   "source": [
    "import numpy as np\n",
    "from functions import paraboloid, uneven_paraboloid\n",
    "from descentMethods import naive_max_descent, max_descent"
   ]
  },
  {
   "cell_type": "markdown",
   "metadata": {},
   "source": [
    "### Example 1"
   ]
  },
  {
   "cell_type": "code",
   "execution_count": 2,
   "metadata": {},
   "outputs": [
    {
     "name": "stdout",
     "output_type": "stream",
     "text": [
      "====================\n",
      "Solution is:\n",
      "x0 = 2.361728590472012e-10\n",
      "x1 = 3.9608316626527085e-11\n",
      "achieved in 1 steps.\n"
     ]
    }
   ],
   "source": [
    "x = np.array([5.3, 4.8]) # Close to the minimum\n",
    "(x, k) = naive_max_descent(paraboloid, x)\n",
    "\n",
    "print('====================')\n",
    "print('Solution is:')\n",
    "for i in range(len(x)):\n",
    "    print(f'x{i} = {x[i]}')\n",
    "print(f'achieved in {k} steps.')"
   ]
  },
  {
   "cell_type": "markdown",
   "metadata": {},
   "source": [
    "### Example 2"
   ]
  },
  {
   "cell_type": "code",
   "execution_count": 3,
   "metadata": {},
   "outputs": [
    {
     "name": "stdout",
     "output_type": "stream",
     "text": [
      "====================\n",
      "Solution is:\n",
      "x0 = -2.079759298112549e-08\n",
      "x1 = -1.0676743045223702e-08\n",
      "achieved in 1 steps.\n"
     ]
    }
   ],
   "source": [
    "x = np.array([50.3, 40.8]) # Far away from the minimum\n",
    "\n",
    "(x, k) = naive_max_descent(paraboloid, x)\n",
    "\n",
    "print('====================')\n",
    "print('Solution is:')\n",
    "for i in range(len(x)):\n",
    "    print(f'x{i} = {x[i]}')\n",
    "print(f'achieved in {k} steps.')"
   ]
  },
  {
   "cell_type": "markdown",
   "metadata": {},
   "source": [
    "### Example 3"
   ]
  },
  {
   "cell_type": "code",
   "execution_count": 4,
   "metadata": {},
   "outputs": [
    {
     "name": "stdout",
     "output_type": "stream",
     "text": [
      "====================\n",
      "Solution is:\n",
      "x0 = -1.9208527390901509e-07\n",
      "x1 = 382820412061.55865\n",
      "achieved in 5 steps.\n"
     ]
    }
   ],
   "source": [
    "x = np.array([50, -40])\n",
    "\n",
    "(x, k) = naive_max_descent(uneven_paraboloid, x)\n",
    "\n",
    "print('====================')\n",
    "print('Solution is:')\n",
    "for i in range(len(x)):\n",
    "    print(f'x{i} = {x[i]}')\n",
    "print(f'achieved in {k} steps.')"
   ]
  },
  {
   "cell_type": "markdown",
   "metadata": {},
   "source": [
    "This result is clearly wrong! This is because the grad of $f(x,y) = x^2 + 100y^2$ is $∇f(x,y) = (2x, 200y)$. Since we define $p$ as the grad, the step taken in direction $p$ (this is, $x+\\alpha p$) is huge."
   ]
  },
  {
   "cell_type": "markdown",
   "metadata": {},
   "source": [
    "### Introducing line search (with parameters c1, c2)"
   ]
  },
  {
   "cell_type": "markdown",
   "metadata": {},
   "source": [
    "<img src='/Users/pedrom2/Desktop/Personal/ITAM/Materias/Applied-Analysis/linesearch.png'>"
   ]
  },
  {
   "cell_type": "markdown",
   "metadata": {},
   "source": [
    "We'll modify our max_descent function to do a line search! Lets cut our step $x+p$ in half every time the evaluation at $f(x + p)$ is above the evaluation at $R_1(x + p)$.\n",
    "\n",
    "In the modification of our method, we'll only deal with a single $R_i$ at a time. Now the natural question is: how to choose the slope of $R_1$? That is, how to choose $c_1$?"
   ]
  },
  {
   "cell_type": "markdown",
   "metadata": {},
   "source": [
    "Spoiler: A tolerance $\\frac{1}{2^m}$ will limit the number of $R_i$'s we'll consider."
   ]
  },
  {
   "cell_type": "code",
   "execution_count": 5,
   "metadata": {},
   "outputs": [
    {
     "name": "stdout",
     "output_type": "stream",
     "text": [
      "====================\n",
      "Solution is:\n",
      "x0 = -37.11957517295851\n",
      "x1 = 9202729451770.457\n",
      "achieved in 5 steps.\n"
     ]
    }
   ],
   "source": [
    "x = np.array([1.3, -0.8])\n",
    "\n",
    "(x, k) = max_descent(uneven_paraboloid, x)\n",
    "\n",
    "print('====================')\n",
    "print('Solution is:')\n",
    "for i in range(len(x)):\n",
    "    print(f'x{i} = {x[i]}')\n",
    "print(f'achieved in {k} steps.')"
   ]
  }
 ],
 "metadata": {
  "kernelspec": {
   "display_name": "Python 3",
   "language": "python",
   "name": "python3"
  },
  "language_info": {
   "codemirror_mode": {
    "name": "ipython",
    "version": 3
   },
   "file_extension": ".py",
   "mimetype": "text/x-python",
   "name": "python",
   "nbconvert_exporter": "python",
   "pygments_lexer": "ipython3",
   "version": "3.9.6"
  }
 },
 "nbformat": 4,
 "nbformat_minor": 2
}
