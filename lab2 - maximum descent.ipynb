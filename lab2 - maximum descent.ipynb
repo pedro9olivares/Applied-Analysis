{
 "cells": [
  {
   "cell_type": "markdown",
   "metadata": {},
   "source": [
    "# Maximum descent"
   ]
  },
  {
   "cell_type": "code",
   "execution_count": 13,
   "metadata": {},
   "outputs": [
    {
     "ename": "ImportError",
     "evalue": "cannot import name 'naive_max_descent' from 'descentMethods' (/Users/pedrom2/Desktop/Personal/ITAM/Materias/Applied-Analysis/descentMethods.py)",
     "output_type": "error",
     "traceback": [
      "\u001b[0;31m---------------------------------------------------------------------------\u001b[0m",
      "\u001b[0;31mImportError\u001b[0m                               Traceback (most recent call last)",
      "Cell \u001b[0;32mIn[13], line 3\u001b[0m\n\u001b[1;32m      1\u001b[0m \u001b[38;5;28;01mimport\u001b[39;00m \u001b[38;5;21;01mnumpy\u001b[39;00m \u001b[38;5;28;01mas\u001b[39;00m \u001b[38;5;21;01mnp\u001b[39;00m\n\u001b[1;32m      2\u001b[0m \u001b[38;5;28;01mfrom\u001b[39;00m \u001b[38;5;21;01mfunctions\u001b[39;00m \u001b[38;5;28;01mimport\u001b[39;00m paraboloid, uneven_paraboloid\n\u001b[0;32m----> 3\u001b[0m \u001b[38;5;28;01mfrom\u001b[39;00m \u001b[38;5;21;01mdescentMethods\u001b[39;00m \u001b[38;5;28;01mimport\u001b[39;00m naive_max_descent, max_descent\n",
      "\u001b[0;31mImportError\u001b[0m: cannot import name 'naive_max_descent' from 'descentMethods' (/Users/pedrom2/Desktop/Personal/ITAM/Materias/Applied-Analysis/descentMethods.py)"
     ]
    }
   ],
   "source": [
    "import numpy as np\n",
    "from functions import paraboloid, uneven_paraboloid\n",
    "from descentMethods import naive_max_descent, max_descent"
   ]
  },
  {
   "cell_type": "markdown",
   "metadata": {},
   "source": [
    "### Example 1"
   ]
  },
  {
   "cell_type": "code",
   "execution_count": 12,
   "metadata": {},
   "outputs": [
    {
     "ename": "NameError",
     "evalue": "name 'naive_max_descent' is not defined",
     "output_type": "error",
     "traceback": [
      "\u001b[0;31m---------------------------------------------------------------------------\u001b[0m",
      "\u001b[0;31mNameError\u001b[0m                                 Traceback (most recent call last)",
      "Cell \u001b[0;32mIn[12], line 2\u001b[0m\n\u001b[1;32m      1\u001b[0m x \u001b[38;5;241m=\u001b[39m np\u001b[38;5;241m.\u001b[39marray([\u001b[38;5;241m5.3\u001b[39m, \u001b[38;5;241m4.8\u001b[39m]) \u001b[38;5;66;03m# Close to the minimum\u001b[39;00m\n\u001b[0;32m----> 2\u001b[0m (x, k) \u001b[38;5;241m=\u001b[39m \u001b[43mnaive_max_descent\u001b[49m(paraboloid, x)\n\u001b[1;32m      4\u001b[0m \u001b[38;5;28mprint\u001b[39m(\u001b[38;5;124m'\u001b[39m\u001b[38;5;124m====================\u001b[39m\u001b[38;5;124m'\u001b[39m)\n\u001b[1;32m      5\u001b[0m \u001b[38;5;28mprint\u001b[39m(\u001b[38;5;124m'\u001b[39m\u001b[38;5;124mSolution is:\u001b[39m\u001b[38;5;124m'\u001b[39m)\n",
      "\u001b[0;31mNameError\u001b[0m: name 'naive_max_descent' is not defined"
     ]
    }
   ],
   "source": [
    "x = np.array([5.3, 4.8]) # Close to the minimum\n",
    "(x, k) = naive_max_descent(paraboloid, x)\n",
    "\n",
    "print('====================')\n",
    "print('Solution is:')\n",
    "for i in range(len(x)):\n",
    "    print(f'x{i} = {x[i]}')\n",
    "print(f'achieved in {k} steps.')"
   ]
  },
  {
   "cell_type": "markdown",
   "metadata": {},
   "source": [
    "### Example 2"
   ]
  },
  {
   "cell_type": "code",
   "execution_count": 7,
   "metadata": {},
   "outputs": [
    {
     "name": "stdout",
     "output_type": "stream",
     "text": [
      "====================\n",
      "Solution is:\n",
      "x0 = -2.079759298112549e-08\n",
      "x1 = -1.0676743045223702e-08\n",
      "achieved in 1 steps.\n"
     ]
    }
   ],
   "source": [
    "x = np.array([50.3, 40.8]) # Far away from the minimum\n",
    "\n",
    "(x, k) = naive_max_descent(paraboloid, x)\n",
    "\n",
    "print('====================')\n",
    "print('Solution is:')\n",
    "for i in range(len(x)):\n",
    "    print(f'x{i} = {x[i]}')\n",
    "print(f'achieved in {k} steps.')"
   ]
  },
  {
   "cell_type": "markdown",
   "metadata": {},
   "source": [
    "### Example 3"
   ]
  },
  {
   "cell_type": "code",
   "execution_count": 3,
   "metadata": {},
   "outputs": [
    {
     "name": "stdout",
     "output_type": "stream",
     "text": [
      "====================\n",
      "Solution is:\n",
      "x0 = -1.9208527390901509e-07\n",
      "x1 = 382820412061.55865\n",
      "achieved in 5 steps.\n"
     ]
    }
   ],
   "source": [
    "x = np.array([50, -40])\n",
    "\n",
    "(x, k) = naive_max_descent(uneven_paraboloid, x)\n",
    "\n",
    "print('====================')\n",
    "print('Solution is:')\n",
    "for i in range(len(x)):\n",
    "    print(f'x{i} = {x[i]}')\n",
    "print(f'achieved in {k} steps.')"
   ]
  },
  {
   "cell_type": "markdown",
   "metadata": {},
   "source": [
    "This result is clearly wrong! This is because the grad of $f(x,y) = x^2 + 100y^2$ is $∇f(x,y) = (2x, 200y)$. Since we define $p$ as the grad, the step taken in direction $p$ (this is, $x+\\alpha p$) is huge."
   ]
  },
  {
   "cell_type": "markdown",
   "metadata": {},
   "source": [
    "### Introducing line search (with parameters c1, c2)"
   ]
  },
  {
   "cell_type": "markdown",
   "metadata": {},
   "source": [
    "<img src='/Users/pedrom2/Desktop/Personal/ITAM/Materias/Applied-Analysis/linesearch.png'>"
   ]
  },
  {
   "cell_type": "markdown",
   "metadata": {},
   "source": [
    "We'll modify our max_descent function to do a line search! Lets cut our step $x+p$ in half every time the evaluation at $f(x + p)$ is above the evaluation at $R_1(x + p)$.\n",
    "\n",
    "In the modification of our method, we'll only deal with a single $R_i$ at a time. Now the natural question is: how to choose the slope of $R_1$? That is, how to choose $c_1$?"
   ]
  },
  {
   "cell_type": "markdown",
   "metadata": {},
   "source": [
    "Spoiler: A tolerance $\\frac{1}{2^m}$ will limit the number of $R_i$'s we'll consider."
   ]
  },
  {
   "cell_type": "code",
   "execution_count": 9,
   "metadata": {},
   "outputs": [
    {
     "name": "stdout",
     "output_type": "stream",
     "text": [
      "====================\n",
      "Solution is:\n",
      "x0 = -2.705291546334365e-10\n",
      "x1 = -726393647198.2953\n",
      "achieved in 6 steps.\n"
     ]
    }
   ],
   "source": [
    "x = np.array([1.3, -0.8])\n",
    "\n",
    "(x, k) = max_descent(uneven_paraboloid, x)\n",
    "\n",
    "print('====================')\n",
    "print('Solution is:')\n",
    "for i in range(len(x)):\n",
    "    print(f'x{i} = {x[i]}')\n",
    "print(f'achieved in {k} steps.')"
   ]
  }
 ],
 "metadata": {
  "kernelspec": {
   "display_name": "Python 3",
   "language": "python",
   "name": "python3"
  },
  "language_info": {
   "codemirror_mode": {
    "name": "ipython",
    "version": 3
   },
   "file_extension": ".py",
   "mimetype": "text/x-python",
   "name": "python",
   "nbconvert_exporter": "python",
   "pygments_lexer": "ipython3",
   "version": "3.9.6"
  }
 },
 "nbformat": 4,
 "nbformat_minor": 2
}
