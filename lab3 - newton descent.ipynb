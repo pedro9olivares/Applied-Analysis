{
 "cells": [
  {
   "cell_type": "markdown",
   "metadata": {},
   "source": [
    "# Direcciones de Newton"
   ]
  },
  {
   "cell_type": "code",
   "execution_count": 1,
   "metadata": {},
   "outputs": [],
   "source": [
    "from derivatives import hessian\n",
    "from functions import rosenbrock, uneven_paraboloid\n",
    "from descentMethods import max_descent, newton_descent\n",
    "import numpy as np"
   ]
  },
  {
   "cell_type": "code",
   "execution_count": 2,
   "metadata": {},
   "outputs": [],
   "source": [
    "def f_prueba(x):\n",
    "    x1 = x[0]\n",
    "    x2 = x[1]\n",
    "    fx = (x1**2)*(x2**2) + 8*(x1)*(x2)\n",
    "    return fx"
   ]
  },
  {
   "cell_type": "code",
   "execution_count": 3,
   "metadata": {},
   "outputs": [
    {
     "name": "stdout",
     "output_type": "stream",
     "text": [
      "[[ 1.9999824  12.00001876]\n",
      " [12.00001876  1.9999824 ]]\n"
     ]
    }
   ],
   "source": [
    "x = np.array([1., 1.])\n",
    "print(hessian(f_prueba, x))"
   ]
  },
  {
   "cell_type": "code",
   "execution_count": 4,
   "metadata": {},
   "outputs": [
    {
     "name": "stdout",
     "output_type": "stream",
     "text": [
      "[[2.00000017 4.00000033]\n",
      " [4.00000033 2.00000017]]\n"
     ]
    }
   ],
   "source": [
    "x = np.array([1., -1.])\n",
    "print(hessian(f_prueba, x))"
   ]
  },
  {
   "cell_type": "code",
   "execution_count": 5,
   "metadata": {},
   "outputs": [
    {
     "name": "stdout",
     "output_type": "stream",
     "text": [
      "[[ 800.02400015 -400.00200001]\n",
      " [-400.00200001  202.        ]]\n"
     ]
    }
   ],
   "source": [
    "x = np.array([1., 1.])\n",
    "print(hessian(rosenbrock, x))"
   ]
  },
  {
   "cell_type": "markdown",
   "metadata": {},
   "source": [
    "### After the little change in direction in descent, we can try out our Netwon Method"
   ]
  },
  {
   "cell_type": "markdown",
   "metadata": {},
   "source": [
    "Testing on the uneven paraboloid"
   ]
  },
  {
   "cell_type": "code",
   "execution_count": 6,
   "metadata": {},
   "outputs": [
    {
     "name": "stdout",
     "output_type": "stream",
     "text": [
      "local minimum is (-285.53462448434914, -4922155395233.646), achieved in 8 steps.\n"
     ]
    }
   ],
   "source": [
    "x = np.array([1.3, -0.8])\n",
    "x, k = max_descent(uneven_paraboloid, x)\n",
    "print(f'local minimum is ({x[0]}, {x[1]}), achieved in {k} steps.')"
   ]
  },
  {
   "cell_type": "code",
   "execution_count": 7,
   "metadata": {},
   "outputs": [
    {
     "name": "stdout",
     "output_type": "stream",
     "text": [
      "local minimum is (-3.8381180422460484e-22, 3.1763735522036263e-22), achieved in 2 steps.\n"
     ]
    }
   ],
   "source": [
    "x = np.array([1.3, -0.8])\n",
    "x, k = newton_descent(uneven_paraboloid, x)\n",
    "print(f'local minimum is ({x[0]}, {x[1]}), achieved in {k} steps.')"
   ]
  },
  {
   "cell_type": "markdown",
   "metadata": {},
   "source": [
    "Testing on rosenbrock's function"
   ]
  },
  {
   "cell_type": "code",
   "execution_count": 8,
   "metadata": {},
   "outputs": [
    {
     "name": "stdout",
     "output_type": "stream",
     "text": [
      "local minimum is (13842676026294.799, 2675394019.4882812), achieved in 2 steps.\n"
     ]
    }
   ],
   "source": [
    "x = np.array([1.3, -0.8])\n",
    "x, k = max_descent(rosenbrock, x)\n",
    "print(f'local minimum is ({x[0]}, {x[1]}), achieved in {k} steps.')"
   ]
  },
  {
   "cell_type": "code",
   "execution_count": 9,
   "metadata": {},
   "outputs": [
    {
     "name": "stdout",
     "output_type": "stream",
     "text": [
      "local minimum is (0.9999999999370732, 0.9999999998461209), achieved in 7 steps.\n"
     ]
    }
   ],
   "source": [
    "x = np.array([1.3, -0.8])\n",
    "x, k = newton_descent(rosenbrock, x)\n",
    "print(f'local minimum is ({x[0]}, {x[1]}), achieved in {k} steps.')"
   ]
  }
 ],
 "metadata": {
  "kernelspec": {
   "display_name": "Python 3",
   "language": "python",
   "name": "python3"
  },
  "language_info": {
   "codemirror_mode": {
    "name": "ipython",
    "version": 3
   },
   "file_extension": ".py",
   "mimetype": "text/x-python",
   "name": "python",
   "nbconvert_exporter": "python",
   "pygments_lexer": "ipython3",
   "version": "3.9.6"
  }
 },
 "nbformat": 4,
 "nbformat_minor": 2
}
