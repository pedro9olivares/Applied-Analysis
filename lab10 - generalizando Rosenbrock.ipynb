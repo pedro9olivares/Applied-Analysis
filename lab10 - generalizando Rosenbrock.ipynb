{
 "cells": [
  {
   "cell_type": "code",
   "execution_count": 5,
   "metadata": {},
   "outputs": [],
   "source": [
    "import numpy as np\n",
    "from derivatives import gradient, hessian\n",
    "from derivatives import regionconf_modificado"
   ]
  },
  {
   "cell_type": "markdown",
   "metadata": {},
   "source": [
    "# Generalizando la función de Rosenbrock"
   ]
  },
  {
   "cell_type": "code",
   "execution_count": 2,
   "metadata": {},
   "outputs": [],
   "source": [
    "def rosenbrock_n(x):\n",
    "    fx = 0\n",
    "    n = len(x)\n",
    "\n",
    "    for i in range(n-1):\n",
    "        fx += 100*(x[i+1] - x[i]**2)**2 + (x[i] - 1)**2\n",
    "\n",
    "    return fx"
   ]
  },
  {
   "cell_type": "code",
   "execution_count": 8,
   "metadata": {},
   "outputs": [],
   "source": [
    "n = 100\n",
    "x = np.random.rand(n)\n",
    "y = np.ones(n)\n",
    "fx = rosenbrock_n(x)\n",
    "fy = rosenbrock_n(y)"
   ]
  },
  {
   "cell_type": "code",
   "execution_count": 9,
   "metadata": {},
   "outputs": [
    {
     "name": "stdout",
     "output_type": "stream",
     "text": [
      "2036.0634493480864\n",
      "0.0\n"
     ]
    }
   ],
   "source": [
    "print(fx)\n",
    "print(fy)"
   ]
  },
  {
   "cell_type": "code",
   "execution_count": 10,
   "metadata": {},
   "outputs": [],
   "source": [
    "B1 = hessian(rosenbrock_n, x)\n",
    "B2 = hessian(rosenbrock_n, y)"
   ]
  },
  {
   "cell_type": "code",
   "execution_count": 13,
   "metadata": {},
   "outputs": [
    {
     "name": "stdout",
     "output_type": "stream",
     "text": [
      "0.9999999999997744\n",
      "0.5027281280842923\n"
     ]
    }
   ],
   "source": [
    "v1 = np.linalg.eigvalsh(B1)\n",
    "v2 = np.linalg.eigvalsh(B2)\n",
    "\n",
    "v1_min = np.min(v1)\n",
    "v2_min = np.min(v2)\n",
    "\n",
    "if v1_min < 0:\n",
    "    B1 = B1 + (np.abs(v1_min) + 1)*np.eye(n)\n",
    "\n",
    "v1 = np.linalg.eigvalsh(B1)\n",
    "v1_min = np.min(v1)\n",
    "\n",
    "print(v1_min)\n",
    "print(v2_min)"
   ]
  },
  {
   "cell_type": "code",
   "execution_count": null,
   "metadata": {},
   "outputs": [],
   "source": [
    "xf, k = regionconf_modificado(rosenbrock_n, x)\n",
    "\n",
    "fx = rosenbrock_n(xf)\n",
    "print(f'F(x) = {fx}')"
   ]
  }
 ],
 "metadata": {
  "kernelspec": {
   "display_name": "Python 3",
   "language": "python",
   "name": "python3"
  },
  "language_info": {
   "codemirror_mode": {
    "name": "ipython",
    "version": 3
   },
   "file_extension": ".py",
   "mimetype": "text/x-python",
   "name": "python",
   "nbconvert_exporter": "python",
   "pygments_lexer": "ipython3",
   "version": "3.9.6"
  }
 },
 "nbformat": 4,
 "nbformat_minor": 2
}
